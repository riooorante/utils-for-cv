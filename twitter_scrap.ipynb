{
 "cells": [
  {
   "cell_type": "code",
   "execution_count": 1,
   "metadata": {
    "colab": {
     "base_uri": "https://localhost:8080/"
    },
    "id": "ntf9CpXMXBiE",
    "outputId": "a446dea4-b8d5-4939-ea0e-e9cfb3d132aa",
    "ExecuteTime": {
     "end_time": "2024-11-05T12:57:08.282960Z",
     "start_time": "2024-11-05T12:56:58.994939Z"
    }
   },
   "outputs": [
    {
     "name": "stdout",
     "output_type": "stream",
     "text": [
      "Collecting snscrape\n",
      "  Obtaining dependency information for snscrape from https://files.pythonhosted.org/packages/82/90/82b86fdf8e3a3faef16036b57764e969a931285cce1d82956ccda60daa2c/snscrape-0.7.0.20230622-py3-none-any.whl.metadata\n",
      "  Downloading snscrape-0.7.0.20230622-py3-none-any.whl.metadata (4.9 kB)\n",
      "Requirement already satisfied: requests[socks] in d:\\utils\\venv\\lib\\site-packages (from snscrape) (2.32.3)\n",
      "Collecting lxml (from snscrape)\n",
      "  Obtaining dependency information for lxml from https://files.pythonhosted.org/packages/c3/b5/91c2249bfac02ee514ab135e9304b89d55967be7e53e94a879b74eec7a5c/lxml-5.3.0-cp311-cp311-win_amd64.whl.metadata\n",
      "  Downloading lxml-5.3.0-cp311-cp311-win_amd64.whl.metadata (3.9 kB)\n",
      "Requirement already satisfied: beautifulsoup4 in d:\\utils\\venv\\lib\\site-packages (from snscrape) (4.12.3)\n",
      "Requirement already satisfied: filelock in d:\\utils\\venv\\lib\\site-packages (from snscrape) (3.15.4)\n",
      "Requirement already satisfied: soupsieve>1.2 in d:\\utils\\venv\\lib\\site-packages (from beautifulsoup4->snscrape) (2.5)\n",
      "Requirement already satisfied: charset-normalizer<4,>=2 in d:\\utils\\venv\\lib\\site-packages (from requests[socks]->snscrape) (3.3.2)\n",
      "Requirement already satisfied: idna<4,>=2.5 in d:\\utils\\venv\\lib\\site-packages (from requests[socks]->snscrape) (3.7)\n",
      "Requirement already satisfied: urllib3<3,>=1.21.1 in d:\\utils\\venv\\lib\\site-packages (from requests[socks]->snscrape) (2.2.2)\n",
      "Requirement already satisfied: certifi>=2017.4.17 in d:\\utils\\venv\\lib\\site-packages (from requests[socks]->snscrape) (2024.7.4)\n",
      "Requirement already satisfied: PySocks!=1.5.7,>=1.5.6 in d:\\utils\\venv\\lib\\site-packages (from requests[socks]->snscrape) (1.7.1)\n",
      "Downloading snscrape-0.7.0.20230622-py3-none-any.whl (74 kB)\n",
      "   ---------------------------------------- 0.0/74.8 kB ? eta -:--:--\n",
      "   ----- ---------------------------------- 10.2/74.8 kB ? eta -:--:--\n",
      "   ---------------- ----------------------- 30.7/74.8 kB 325.1 kB/s eta 0:00:01\n",
      "   ---------------------------------------- 74.8/74.8 kB 592.4 kB/s eta 0:00:00\n",
      "Downloading lxml-5.3.0-cp311-cp311-win_amd64.whl (3.8 MB)\n",
      "   ---------------------------------------- 0.0/3.8 MB ? eta -:--:--\n",
      "    --------------------------------------- 0.1/3.8 MB 5.5 MB/s eta 0:00:01\n",
      "   -- ------------------------------------- 0.2/3.8 MB 2.8 MB/s eta 0:00:02\n",
      "   ---- ----------------------------------- 0.4/3.8 MB 3.3 MB/s eta 0:00:02\n",
      "   ----- ---------------------------------- 0.6/3.8 MB 3.5 MB/s eta 0:00:01\n",
      "   ---------- ----------------------------- 1.0/3.8 MB 4.6 MB/s eta 0:00:01\n",
      "   --------------- ------------------------ 1.5/3.8 MB 5.6 MB/s eta 0:00:01\n",
      "   ---------------------- ----------------- 2.1/3.8 MB 6.7 MB/s eta 0:00:01\n",
      "   ------------------------- -------------- 2.5/3.8 MB 6.8 MB/s eta 0:00:01\n",
      "   ------------------------------- -------- 3.0/3.8 MB 7.5 MB/s eta 0:00:01\n",
      "   ------------------------------------- -- 3.6/3.8 MB 8.1 MB/s eta 0:00:01\n",
      "   ---------------------------------------- 3.8/3.8 MB 8.1 MB/s eta 0:00:00\n",
      "Installing collected packages: lxml, snscrape\n",
      "Successfully installed lxml-5.3.0 snscrape-0.7.0.20230622\n"
     ]
    },
    {
     "name": "stderr",
     "output_type": "stream",
     "text": [
      "\n",
      "[notice] A new release of pip is available: 23.2.1 -> 24.3.1\n",
      "[notice] To update, run: python.exe -m pip install --upgrade pip\n"
     ]
    }
   ],
   "source": [
    "!pip install snscrape"
   ]
  },
  {
   "cell_type": "code",
   "execution_count": 2,
   "metadata": {
    "id": "tOlrdEYMWDs6",
    "ExecuteTime": {
     "end_time": "2024-11-05T12:58:31.941057Z",
     "start_time": "2024-11-05T12:58:28.390949Z"
    }
   },
   "outputs": [],
   "source": [
    "import pandas as pd\n",
    "import numpy as np\n",
    "import snscrape.modules.twitter as sntwitter\n",
    "\n",
    "from tqdm.notebook import tqdm"
   ]
  },
  {
   "cell_type": "markdown",
   "metadata": {
    "id": "COCddkMzXSOb"
   },
   "source": [
    "# **Pull Data**"
   ]
  },
  {
   "cell_type": "code",
   "execution_count": 3,
   "metadata": {
    "id": "4cLHrdyGWTys",
    "ExecuteTime": {
     "end_time": "2024-11-05T12:58:31.947091Z",
     "start_time": "2024-11-05T12:58:31.942632Z"
    }
   },
   "outputs": [],
   "source": [
    "scraper = sntwitter.TwitterSearchScraper(\"#PendidikanIndonesia\")"
   ]
  },
  {
   "cell_type": "code",
   "execution_count": 5,
   "metadata": {
    "colab": {
     "base_uri": "https://localhost:8080/",
     "height": 479
    },
    "id": "r1tZtBx9Xi4s",
    "outputId": "9f6996d7-a955-4da8-c948-e7754817c01f",
    "ExecuteTime": {
     "end_time": "2024-11-05T13:03:16.420246Z",
     "start_time": "2024-11-05T13:03:08.297096Z"
    }
   },
   "outputs": [
    {
     "name": "stderr",
     "output_type": "stream",
     "text": [
      "Error retrieving https://twitter.com/search?f=live&lang=en&q=%23PendidikanIndonesia&src=spelling_expansion_revert_click: SSLError(MaxRetryError(\"HTTPSConnectionPool(host='twitter.com', port=443): Max retries exceeded with url: /search?f=live&lang=en&q=%23PendidikanIndonesia&src=spelling_expansion_revert_click (Caused by SSLError(SSLCertVerificationError(1, '[SSL: CERTIFICATE_VERIFY_FAILED] certificate verify failed: unable to get local issuer certificate (_ssl.c:1006)')))\"))\n",
      "4 requests to https://twitter.com/search?f=live&lang=en&q=%23PendidikanIndonesia&src=spelling_expansion_revert_click failed, giving up.\n",
      "Errors: SSLError(MaxRetryError(\"HTTPSConnectionPool(host='twitter.com', port=443): Max retries exceeded with url: /search?f=live&lang=en&q=%23PendidikanIndonesia&src=spelling_expansion_revert_click (Caused by SSLError(SSLCertVerificationError(1, '[SSL: CERTIFICATE_VERIFY_FAILED] certificate verify failed: unable to get local issuer certificate (_ssl.c:1006)')))\")), SSLError(MaxRetryError(\"HTTPSConnectionPool(host='twitter.com', port=443): Max retries exceeded with url: /search?f=live&lang=en&q=%23PendidikanIndonesia&src=spelling_expansion_revert_click (Caused by SSLError(SSLCertVerificationError(1, '[SSL: CERTIFICATE_VERIFY_FAILED] certificate verify failed: unable to get local issuer certificate (_ssl.c:1006)')))\")), SSLError(MaxRetryError(\"HTTPSConnectionPool(host='twitter.com', port=443): Max retries exceeded with url: /search?f=live&lang=en&q=%23PendidikanIndonesia&src=spelling_expansion_revert_click (Caused by SSLError(SSLCertVerificationError(1, '[SSL: CERTIFICATE_VERIFY_FAILED] certificate verify failed: unable to get local issuer certificate (_ssl.c:1006)')))\")), SSLError(MaxRetryError(\"HTTPSConnectionPool(host='twitter.com', port=443): Max retries exceeded with url: /search?f=live&lang=en&q=%23PendidikanIndonesia&src=spelling_expansion_revert_click (Caused by SSLError(SSLCertVerificationError(1, '[SSL: CERTIFICATE_VERIFY_FAILED] certificate verify failed: unable to get local issuer certificate (_ssl.c:1006)')))\"))\n"
     ]
    },
    {
     "ename": "ScraperException",
     "evalue": "4 requests to https://twitter.com/search?f=live&lang=en&q=%23PendidikanIndonesia&src=spelling_expansion_revert_click failed, giving up.",
     "output_type": "error",
     "traceback": [
      "\u001B[1;31m---------------------------------------------------------------------------\u001B[0m",
      "\u001B[1;31mScraperException\u001B[0m                          Traceback (most recent call last)",
      "Cell \u001B[1;32mIn[5], line 1\u001B[0m\n\u001B[1;32m----> 1\u001B[0m \u001B[38;5;28;43;01mfor\u001B[39;49;00m\u001B[43m \u001B[49m\u001B[43mtweet\u001B[49m\u001B[43m \u001B[49m\u001B[38;5;129;43;01min\u001B[39;49;00m\u001B[43m \u001B[49m\u001B[43mscraper\u001B[49m\u001B[38;5;241;43m.\u001B[39;49m\u001B[43mget_items\u001B[49m\u001B[43m(\u001B[49m\u001B[43m)\u001B[49m\u001B[43m:\u001B[49m\n\u001B[0;32m      2\u001B[0m \u001B[43m  \u001B[49m\u001B[38;5;28;43mprint\u001B[39;49m\u001B[43m(\u001B[49m\u001B[43mtweet\u001B[49m\u001B[43m)\u001B[49m\n\u001B[0;32m      3\u001B[0m \u001B[43m  \u001B[49m\u001B[38;5;28;43;01mbreak\u001B[39;49;00m\n",
      "File \u001B[1;32mD:\\Utils\\venv\\Lib\\site-packages\\snscrape\\modules\\twitter.py:1763\u001B[0m, in \u001B[0;36mTwitterSearchScraper.get_items\u001B[1;34m(self)\u001B[0m\n\u001B[0;32m   1760\u001B[0m params \u001B[38;5;241m=\u001B[39m {\u001B[38;5;124m'\u001B[39m\u001B[38;5;124mvariables\u001B[39m\u001B[38;5;124m'\u001B[39m: variables, \u001B[38;5;124m'\u001B[39m\u001B[38;5;124mfeatures\u001B[39m\u001B[38;5;124m'\u001B[39m: features}\n\u001B[0;32m   1761\u001B[0m paginationParams \u001B[38;5;241m=\u001B[39m {\u001B[38;5;124m'\u001B[39m\u001B[38;5;124mvariables\u001B[39m\u001B[38;5;124m'\u001B[39m: paginationVariables, \u001B[38;5;124m'\u001B[39m\u001B[38;5;124mfeatures\u001B[39m\u001B[38;5;124m'\u001B[39m: features}\n\u001B[1;32m-> 1763\u001B[0m \u001B[43m\u001B[49m\u001B[38;5;28;43;01mfor\u001B[39;49;00m\u001B[43m \u001B[49m\u001B[43mobj\u001B[49m\u001B[43m \u001B[49m\u001B[38;5;129;43;01min\u001B[39;49;00m\u001B[43m \u001B[49m\u001B[38;5;28;43mself\u001B[39;49m\u001B[38;5;241;43m.\u001B[39;49m\u001B[43m_iter_api_data\u001B[49m\u001B[43m(\u001B[49m\u001B[38;5;124;43m'\u001B[39;49m\u001B[38;5;124;43mhttps://twitter.com/i/api/graphql/7jT5GT59P8IFjgxwqnEdQw/SearchTimeline\u001B[39;49m\u001B[38;5;124;43m'\u001B[39;49m\u001B[43m,\u001B[49m\u001B[43m \u001B[49m\u001B[43m_TwitterAPIType\u001B[49m\u001B[38;5;241;43m.\u001B[39;49m\u001B[43mGRAPHQL\u001B[49m\u001B[43m,\u001B[49m\u001B[43m \u001B[49m\u001B[43mparams\u001B[49m\u001B[43m,\u001B[49m\u001B[43m \u001B[49m\u001B[43mpaginationParams\u001B[49m\u001B[43m,\u001B[49m\u001B[43m \u001B[49m\u001B[43mcursor\u001B[49m\u001B[43m \u001B[49m\u001B[38;5;241;43m=\u001B[39;49m\u001B[43m \u001B[49m\u001B[38;5;28;43mself\u001B[39;49m\u001B[38;5;241;43m.\u001B[39;49m\u001B[43m_cursor\u001B[49m\u001B[43m,\u001B[49m\u001B[43m \u001B[49m\u001B[43minstructionsPath\u001B[49m\u001B[43m \u001B[49m\u001B[38;5;241;43m=\u001B[39;49m\u001B[43m \u001B[49m\u001B[43m[\u001B[49m\u001B[38;5;124;43m'\u001B[39;49m\u001B[38;5;124;43mdata\u001B[39;49m\u001B[38;5;124;43m'\u001B[39;49m\u001B[43m,\u001B[49m\u001B[43m \u001B[49m\u001B[38;5;124;43m'\u001B[39;49m\u001B[38;5;124;43msearch_by_raw_query\u001B[39;49m\u001B[38;5;124;43m'\u001B[39;49m\u001B[43m,\u001B[49m\u001B[43m \u001B[49m\u001B[38;5;124;43m'\u001B[39;49m\u001B[38;5;124;43msearch_timeline\u001B[39;49m\u001B[38;5;124;43m'\u001B[39;49m\u001B[43m,\u001B[49m\u001B[43m \u001B[49m\u001B[38;5;124;43m'\u001B[39;49m\u001B[38;5;124;43mtimeline\u001B[39;49m\u001B[38;5;124;43m'\u001B[39;49m\u001B[43m,\u001B[49m\u001B[43m \u001B[49m\u001B[38;5;124;43m'\u001B[39;49m\u001B[38;5;124;43minstructions\u001B[39;49m\u001B[38;5;124;43m'\u001B[39;49m\u001B[43m]\u001B[49m\u001B[43m)\u001B[49m\u001B[43m:\u001B[49m\n\u001B[0;32m   1764\u001B[0m \u001B[43m\t\u001B[49m\u001B[38;5;28;43;01myield from\u001B[39;49;00m\u001B[43m \u001B[49m\u001B[38;5;28;43mself\u001B[39;49m\u001B[38;5;241;43m.\u001B[39;49m\u001B[43m_graphql_timeline_instructions_to_tweets\u001B[49m\u001B[43m(\u001B[49m\u001B[43mobj\u001B[49m\u001B[43m[\u001B[49m\u001B[38;5;124;43m'\u001B[39;49m\u001B[38;5;124;43mdata\u001B[39;49m\u001B[38;5;124;43m'\u001B[39;49m\u001B[43m]\u001B[49m\u001B[43m[\u001B[49m\u001B[38;5;124;43m'\u001B[39;49m\u001B[38;5;124;43msearch_by_raw_query\u001B[39;49m\u001B[38;5;124;43m'\u001B[39;49m\u001B[43m]\u001B[49m\u001B[43m[\u001B[49m\u001B[38;5;124;43m'\u001B[39;49m\u001B[38;5;124;43msearch_timeline\u001B[39;49m\u001B[38;5;124;43m'\u001B[39;49m\u001B[43m]\u001B[49m\u001B[43m[\u001B[49m\u001B[38;5;124;43m'\u001B[39;49m\u001B[38;5;124;43mtimeline\u001B[39;49m\u001B[38;5;124;43m'\u001B[39;49m\u001B[43m]\u001B[49m\u001B[43m[\u001B[49m\u001B[38;5;124;43m'\u001B[39;49m\u001B[38;5;124;43minstructions\u001B[39;49m\u001B[38;5;124;43m'\u001B[39;49m\u001B[43m]\u001B[49m\u001B[43m)\u001B[49m\n",
      "File \u001B[1;32mD:\\Utils\\venv\\Lib\\site-packages\\snscrape\\modules\\twitter.py:915\u001B[0m, in \u001B[0;36m_TwitterAPIScraper._iter_api_data\u001B[1;34m(self, endpoint, apiType, params, paginationParams, cursor, direction, instructionsPath)\u001B[0m\n\u001B[0;32m    913\u001B[0m \u001B[38;5;28;01mwhile\u001B[39;00m \u001B[38;5;28;01mTrue\u001B[39;00m:\n\u001B[0;32m    914\u001B[0m \t_logger\u001B[38;5;241m.\u001B[39minfo(\u001B[38;5;124mf\u001B[39m\u001B[38;5;124m'\u001B[39m\u001B[38;5;124mRetrieving scroll page \u001B[39m\u001B[38;5;132;01m{\u001B[39;00mcursor\u001B[38;5;132;01m}\u001B[39;00m\u001B[38;5;124m'\u001B[39m)\n\u001B[1;32m--> 915\u001B[0m \tobj \u001B[38;5;241m=\u001B[39m \u001B[38;5;28;43mself\u001B[39;49m\u001B[38;5;241;43m.\u001B[39;49m\u001B[43m_get_api_data\u001B[49m\u001B[43m(\u001B[49m\u001B[43mendpoint\u001B[49m\u001B[43m,\u001B[49m\u001B[43m \u001B[49m\u001B[43mapiType\u001B[49m\u001B[43m,\u001B[49m\u001B[43m \u001B[49m\u001B[43mreqParams\u001B[49m\u001B[43m,\u001B[49m\u001B[43m \u001B[49m\u001B[43minstructionsPath\u001B[49m\u001B[43m \u001B[49m\u001B[38;5;241;43m=\u001B[39;49m\u001B[43m \u001B[49m\u001B[43minstructionsPath\u001B[49m\u001B[43m)\u001B[49m\n\u001B[0;32m    916\u001B[0m \t\u001B[38;5;28;01myield\u001B[39;00m obj\n\u001B[0;32m    918\u001B[0m \t\u001B[38;5;66;03m# No data format test, just a hard and loud crash if anything's wrong :-)\u001B[39;00m\n",
      "File \u001B[1;32mD:\\Utils\\venv\\Lib\\site-packages\\snscrape\\modules\\twitter.py:883\u001B[0m, in \u001B[0;36m_TwitterAPIScraper._get_api_data\u001B[1;34m(self, endpoint, apiType, params, instructionsPath)\u001B[0m\n\u001B[0;32m    882\u001B[0m \u001B[38;5;28;01mdef\u001B[39;00m \u001B[38;5;21m_get_api_data\u001B[39m(\u001B[38;5;28mself\u001B[39m, endpoint, apiType, params, instructionsPath \u001B[38;5;241m=\u001B[39m \u001B[38;5;28;01mNone\u001B[39;00m):\n\u001B[1;32m--> 883\u001B[0m \t\u001B[38;5;28;43mself\u001B[39;49m\u001B[38;5;241;43m.\u001B[39;49m\u001B[43m_ensure_guest_token\u001B[49m\u001B[43m(\u001B[49m\u001B[43m)\u001B[49m\n\u001B[0;32m    884\u001B[0m \t\u001B[38;5;28;01mif\u001B[39;00m apiType \u001B[38;5;129;01mis\u001B[39;00m _TwitterAPIType\u001B[38;5;241m.\u001B[39mGRAPHQL:\n\u001B[0;32m    885\u001B[0m \t\tparams \u001B[38;5;241m=\u001B[39m urllib\u001B[38;5;241m.\u001B[39mparse\u001B[38;5;241m.\u001B[39murlencode({k: json\u001B[38;5;241m.\u001B[39mdumps(v, separators \u001B[38;5;241m=\u001B[39m (\u001B[38;5;124m'\u001B[39m\u001B[38;5;124m,\u001B[39m\u001B[38;5;124m'\u001B[39m, \u001B[38;5;124m'\u001B[39m\u001B[38;5;124m:\u001B[39m\u001B[38;5;124m'\u001B[39m)) \u001B[38;5;28;01mfor\u001B[39;00m k, v \u001B[38;5;129;01min\u001B[39;00m params\u001B[38;5;241m.\u001B[39mitems()}, quote_via \u001B[38;5;241m=\u001B[39m urllib\u001B[38;5;241m.\u001B[39mparse\u001B[38;5;241m.\u001B[39mquote)\n",
      "File \u001B[1;32mD:\\Utils\\venv\\Lib\\site-packages\\snscrape\\modules\\twitter.py:825\u001B[0m, in \u001B[0;36m_TwitterAPIScraper._ensure_guest_token\u001B[1;34m(self, url)\u001B[0m\n\u001B[0;32m    823\u001B[0m \u001B[38;5;28;01mif\u001B[39;00m \u001B[38;5;28mself\u001B[39m\u001B[38;5;241m.\u001B[39m_guestTokenManager\u001B[38;5;241m.\u001B[39mtoken \u001B[38;5;129;01mis\u001B[39;00m \u001B[38;5;28;01mNone\u001B[39;00m:\n\u001B[0;32m    824\u001B[0m \t_logger\u001B[38;5;241m.\u001B[39minfo(\u001B[38;5;124m'\u001B[39m\u001B[38;5;124mRetrieving guest token\u001B[39m\u001B[38;5;124m'\u001B[39m)\n\u001B[1;32m--> 825\u001B[0m \tr \u001B[38;5;241m=\u001B[39m \u001B[38;5;28;43mself\u001B[39;49m\u001B[38;5;241;43m.\u001B[39;49m\u001B[43m_get\u001B[49m\u001B[43m(\u001B[49m\u001B[38;5;28;43mself\u001B[39;49m\u001B[38;5;241;43m.\u001B[39;49m\u001B[43m_baseUrl\u001B[49m\u001B[43m \u001B[49m\u001B[38;5;28;43;01mif\u001B[39;49;00m\u001B[43m \u001B[49m\u001B[43murl\u001B[49m\u001B[43m \u001B[49m\u001B[38;5;129;43;01mis\u001B[39;49;00m\u001B[43m \u001B[49m\u001B[38;5;28;43;01mNone\u001B[39;49;00m\u001B[43m \u001B[49m\u001B[38;5;28;43;01melse\u001B[39;49;00m\u001B[43m \u001B[49m\u001B[43murl\u001B[49m\u001B[43m,\u001B[49m\u001B[43m \u001B[49m\u001B[43mresponseOkCallback\u001B[49m\u001B[43m \u001B[49m\u001B[38;5;241;43m=\u001B[39;49m\u001B[43m \u001B[49m\u001B[38;5;28;43mself\u001B[39;49m\u001B[38;5;241;43m.\u001B[39;49m\u001B[43m_check_guest_token_response\u001B[49m\u001B[43m)\u001B[49m\n\u001B[0;32m    826\u001B[0m \t\u001B[38;5;28;01mif\u001B[39;00m (match \u001B[38;5;241m:=\u001B[39m re\u001B[38;5;241m.\u001B[39msearch(\u001B[38;5;124mr\u001B[39m\u001B[38;5;124m'\u001B[39m\u001B[38;5;124mdocument\u001B[39m\u001B[38;5;124m\\\u001B[39m\u001B[38;5;124m.cookie = decodeURIComponent\u001B[39m\u001B[38;5;124m\\\u001B[39m\u001B[38;5;124m(\u001B[39m\u001B[38;5;124m\"\u001B[39m\u001B[38;5;124mgt=(\u001B[39m\u001B[38;5;124m\\\u001B[39m\u001B[38;5;124md+); Max-Age=10800; Domain=\u001B[39m\u001B[38;5;124m\\\u001B[39m\u001B[38;5;124m.twitter\u001B[39m\u001B[38;5;124m\\\u001B[39m\u001B[38;5;124m.com; Path=/; Secure\u001B[39m\u001B[38;5;124m\"\u001B[39m\u001B[38;5;124m\\\u001B[39m\u001B[38;5;124m);\u001B[39m\u001B[38;5;124m'\u001B[39m, r\u001B[38;5;241m.\u001B[39mtext)):\n\u001B[0;32m    827\u001B[0m \t\t_logger\u001B[38;5;241m.\u001B[39mdebug(\u001B[38;5;124m'\u001B[39m\u001B[38;5;124mFound guest token in HTML\u001B[39m\u001B[38;5;124m'\u001B[39m)\n",
      "File \u001B[1;32mD:\\Utils\\venv\\Lib\\site-packages\\snscrape\\base.py:275\u001B[0m, in \u001B[0;36mScraper._get\u001B[1;34m(self, *args, **kwargs)\u001B[0m\n\u001B[0;32m    274\u001B[0m \u001B[38;5;28;01mdef\u001B[39;00m \u001B[38;5;21m_get\u001B[39m(\u001B[38;5;28mself\u001B[39m, \u001B[38;5;241m*\u001B[39margs, \u001B[38;5;241m*\u001B[39m\u001B[38;5;241m*\u001B[39mkwargs):\n\u001B[1;32m--> 275\u001B[0m \t\u001B[38;5;28;01mreturn\u001B[39;00m \u001B[38;5;28;43mself\u001B[39;49m\u001B[38;5;241;43m.\u001B[39;49m\u001B[43m_request\u001B[49m\u001B[43m(\u001B[49m\u001B[38;5;124;43m'\u001B[39;49m\u001B[38;5;124;43mGET\u001B[39;49m\u001B[38;5;124;43m'\u001B[39;49m\u001B[43m,\u001B[49m\u001B[43m \u001B[49m\u001B[38;5;241;43m*\u001B[39;49m\u001B[43margs\u001B[49m\u001B[43m,\u001B[49m\u001B[43m \u001B[49m\u001B[38;5;241;43m*\u001B[39;49m\u001B[38;5;241;43m*\u001B[39;49m\u001B[43mkwargs\u001B[49m\u001B[43m)\u001B[49m\n",
      "File \u001B[1;32mD:\\Utils\\venv\\Lib\\site-packages\\snscrape\\base.py:271\u001B[0m, in \u001B[0;36mScraper._request\u001B[1;34m(self, method, url, params, data, headers, timeout, responseOkCallback, allowRedirects, proxies)\u001B[0m\n\u001B[0;32m    269\u001B[0m \t_logger\u001B[38;5;241m.\u001B[39mfatal(msg)\n\u001B[0;32m    270\u001B[0m \t_logger\u001B[38;5;241m.\u001B[39mfatal(\u001B[38;5;124mf\u001B[39m\u001B[38;5;124m'\u001B[39m\u001B[38;5;124mErrors: \u001B[39m\u001B[38;5;132;01m{\u001B[39;00m\u001B[38;5;124m\"\u001B[39m\u001B[38;5;124m, \u001B[39m\u001B[38;5;124m\"\u001B[39m\u001B[38;5;241m.\u001B[39mjoin(errors)\u001B[38;5;132;01m}\u001B[39;00m\u001B[38;5;124m'\u001B[39m)\n\u001B[1;32m--> 271\u001B[0m \t\u001B[38;5;28;01mraise\u001B[39;00m ScraperException(msg)\n\u001B[0;32m    272\u001B[0m \u001B[38;5;28;01mraise\u001B[39;00m \u001B[38;5;167;01mRuntimeError\u001B[39;00m(\u001B[38;5;124m'\u001B[39m\u001B[38;5;124mReached unreachable code\u001B[39m\u001B[38;5;124m'\u001B[39m)\n",
      "\u001B[1;31mScraperException\u001B[0m: 4 requests to https://twitter.com/search?f=live&lang=en&q=%23PendidikanIndonesia&src=spelling_expansion_revert_click failed, giving up."
     ]
    }
   ],
   "source": [
    "for tweet in scraper.get_items():\n",
    "  print(tweet)\n",
    "  break"
   ]
  },
  {
   "cell_type": "code",
   "execution_count": null,
   "metadata": {
    "id": "CBLlIuYiXojD"
   },
   "outputs": [],
   "source": []
  }
 ],
 "metadata": {
  "colab": {
   "provenance": []
  },
  "kernelspec": {
   "name": "python3",
   "language": "python",
   "display_name": "Python 3 (ipykernel)"
  },
  "language_info": {
   "codemirror_mode": {
    "name": "ipython",
    "version": 3
   },
   "file_extension": ".py",
   "mimetype": "text/x-python",
   "name": "python",
   "nbconvert_exporter": "python",
   "pygments_lexer": "ipython3",
   "version": "3.11.9"
  }
 },
 "nbformat": 4,
 "nbformat_minor": 0
}
