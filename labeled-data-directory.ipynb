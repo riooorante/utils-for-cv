{
 "cells": [
  {
   "cell_type": "code",
   "execution_count": 8,
   "id": "initial_id",
   "metadata": {
    "collapsed": true,
    "ExecuteTime": {
     "end_time": "2024-07-24T05:31:50.470842Z",
     "start_time": "2024-07-24T05:31:50.466172Z"
    }
   },
   "outputs": [],
   "source": [
    "import os\n",
    "import shutil\n",
    "import json"
   ]
  },
  {
   "cell_type": "code",
   "outputs": [],
   "source": [
    "path_utama = \"C:\\\\Users\\\\ASUS\\\\Downloads\\\\labeled-data\\\\block\""
   ],
   "metadata": {
    "collapsed": false,
    "ExecuteTime": {
     "end_time": "2024-07-24T05:05:59.875994Z",
     "start_time": "2024-07-24T05:05:59.871470Z"
    }
   },
   "id": "773d44d2a0ff07b2",
   "execution_count": 5
  },
  {
   "cell_type": "code",
   "outputs": [],
   "source": [
    "for dir in [\"front\", \"lower\", \"upper\"]:\n",
    "    root_dir = os.path.join(path_utama, dir)\n",
    "    data = [foto for foto in os.listdir(root_dir) if not foto.endswith('.json')]\n",
    "    for filename in data:\n",
    "        file_path = os.path.join(root_dir, filename)\n",
    "        os.remove(file_path)"
   ],
   "metadata": {
    "collapsed": false,
    "ExecuteTime": {
     "end_time": "2024-07-24T06:07:18.586816Z",
     "start_time": "2024-07-24T06:07:18.372411Z"
    }
   },
   "id": "f14a5b5596ca64c",
   "execution_count": 19
  },
  {
   "cell_type": "markdown",
   "source": [
    "# Check Data Double"
   ],
   "metadata": {
    "collapsed": false
   },
   "id": "e364cc23fa982e9c"
  },
  {
   "cell_type": "code",
   "outputs": [
    {
     "name": "stdout",
     "output_type": "stream",
     "text": [
      "front\n",
      "lower\n",
      "upper\n"
     ]
    }
   ],
   "source": [
    "for dir in [\"front\", \"lower\", \"upper\"]:\n",
    "    print(dir)\n",
    "    \n",
    "    check = []\n",
    "    root_dir = os.path.join(path_utama, dir)\n",
    "    data = [foto for foto in os.listdir(root_dir) if foto.endswith('.json')]\n",
    "    for filename in data:\n",
    "        file_path = os.path.join(root_dir, filename)\n",
    "        \n",
    "        "
   ],
   "metadata": {
    "collapsed": false,
    "ExecuteTime": {
     "end_time": "2024-07-24T05:06:29.170666Z",
     "start_time": "2024-07-24T05:06:29.158625Z"
    }
   },
   "id": "e0c3d075fee433d3",
   "execution_count": 7
  },
  {
   "cell_type": "code",
   "outputs": [
    {
     "name": "stdout",
     "output_type": "stream",
     "text": [
      "Jumlah file dengan label tidak valid: 0\n",
      "Jumlah file dengan label duplikat: 0\n"
     ]
    }
   ],
   "source": [
    "# note: TARUH DI DALAM 1 FOLDER PROJECT YANG MAU MU CHECK FILE JSONNYA\n",
    "\n",
    "# Daftar nilai label yang dianggap valid\n",
    "#front\n",
    "# valid_labels = {\"first4_upper\", \"side3l_upper\", \"cy3l_upper\", \"side3r_upper\", \"cy3r_upper\",\n",
    "#                 \"first4_lower\", \"side3l_lower\", \"cy3l_lower\", \"side3r_lower\", \"cy3r_lower\"}\n",
    "\n",
    "# lower\n",
    "valid_labels = {\"first4_lower\", \"side3l_lower\", \"cy3l_lower\", \"side3r_lower\", \"cy3r_lower\"}\n",
    "\n",
    "#upper\n",
    "# valid_labels = {\"first4_upper\", \"side3l_upper\", \"cy3l_upper\", \"side3r_upper\", \"cy3r_upper\"}\n",
    "\n",
    "# Direktori tempat file JSON disimpan (root project)\n",
    "directory = \"C:\\\\Users\\\\ASUS\\\\Downloads\\\\labeled-data\\\\block\\\\lower\"\n",
    "\n",
    "def check_labels_in_json(directory):\n",
    "    # Dapatkan semua file dalam direktori\n",
    "    files = [file for file in os.listdir(directory) if file.endswith('.json')]\n",
    "\n",
    "    # Inisialisasi penghitung file dengan label tidak valid\n",
    "    invalid_label_files_count = 0\n",
    "    duplicate_label_files_count = 0\n",
    "\n",
    "    # Proses setiap file JSON\n",
    "    for file in files:\n",
    "        file_path = os.path.join(directory, file)\n",
    "        with open(file_path, 'r') as f:\n",
    "            data = json.load(f)\n",
    "\n",
    "            labels_seen = set()\n",
    "            invalid_labels = False\n",
    "            duplicates_found = False\n",
    "\n",
    "            # Cek setiap shape dalam file JSON\n",
    "            for shape in data.get('shapes', []):\n",
    "                label = shape.get('label')\n",
    "\n",
    "                # Cek apakah label valid\n",
    "                if label not in valid_labels:\n",
    "                    print(f'File: {file}, Label tidak valid: {label}')\n",
    "                    invalid_labels = True\n",
    "\n",
    "                # Cek apakah label duplikat\n",
    "                if label in labels_seen:\n",
    "                    print(f'File: {file}, Label duplikat: {label}')\n",
    "                    duplicates_found = True\n",
    "                else:\n",
    "                    labels_seen.add(label)\n",
    "\n",
    "            if invalid_labels:\n",
    "                invalid_label_files_count += 1\n",
    "            if duplicates_found:\n",
    "                duplicate_label_files_count += 1\n",
    "\n",
    "    # Cetak jumlah file dengan label tidak valid dan label duplikat\n",
    "    print(f'Jumlah file dengan label tidak valid: {invalid_label_files_count}')\n",
    "    print(f'Jumlah file dengan label duplikat: {duplicate_label_files_count}')\n",
    "\n",
    "# Panggil fungsi untuk melakukan pengecekan\n",
    "check_labels_in_json(directory)\n"
   ],
   "metadata": {
    "collapsed": false,
    "ExecuteTime": {
     "end_time": "2024-07-24T05:57:02.749601Z",
     "start_time": "2024-07-24T05:57:01.347030Z"
    }
   },
   "id": "28ea312e826d685e",
   "execution_count": 18
  },
  {
   "cell_type": "code",
   "outputs": [
    {
     "name": "stdout",
     "output_type": "stream",
     "text": [
      "+Keyboard+Tray\n",
      "+Makanan+Ringan\n"
     ]
    }
   ],
   "source": [
    "daftar_gambar = [\"Keyboard Tray\",\n",
    "                 \"Makanan Ringan\"]\n",
    "\n",
    "for i in daftar_gambar:\n",
    "    print()"
   ],
   "metadata": {
    "collapsed": false,
    "ExecuteTime": {
     "end_time": "2024-08-03T08:36:58.322889Z",
     "start_time": "2024-08-03T08:36:58.318248Z"
    }
   },
   "id": "1947fc0e3f5825b2",
   "execution_count": 9
  },
  {
   "cell_type": "code",
   "outputs": [],
   "source": [],
   "metadata": {
    "collapsed": false
   },
   "id": "f47c56d28aa25033"
  }
 ],
 "metadata": {
  "kernelspec": {
   "display_name": "Python 3",
   "language": "python",
   "name": "python3"
  },
  "language_info": {
   "codemirror_mode": {
    "name": "ipython",
    "version": 2
   },
   "file_extension": ".py",
   "mimetype": "text/x-python",
   "name": "python",
   "nbconvert_exporter": "python",
   "pygments_lexer": "ipython2",
   "version": "2.7.6"
  }
 },
 "nbformat": 4,
 "nbformat_minor": 5
}
